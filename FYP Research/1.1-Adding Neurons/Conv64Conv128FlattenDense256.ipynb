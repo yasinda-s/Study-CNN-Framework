{
 "cells": [
  {
   "cell_type": "code",
   "execution_count": null,
   "id": "4580ccb1",
   "metadata": {},
   "outputs": [],
   "source": [
    "# The following codes and networks are original work by Yasinda Samaranayake in 2023."
   ]
  },
  {
   "cell_type": "code",
   "execution_count": null,
   "id": "e2bb9cc1",
   "metadata": {
    "executionInfo": {
     "elapsed": 3363,
     "status": "ok",
     "timestamp": 1667010869791,
     "user": {
      "displayName": "Yasinda Samaranayake",
      "userId": "17648743904073737948"
     },
     "user_tz": -480
    },
    "id": "e2bb9cc1"
   },
   "outputs": [],
   "source": [
    "import tensorflow\n",
    "import numpy as np\n",
    "import seaborn as sns\n",
    "from tensorflow.keras.datasets import mnist\n",
    "from tensorflow.keras.models import Sequential\n",
    "from tensorflow.keras.layers import Dense, Dropout, Conv2D, MaxPooling2D, Flatten\n",
    "from tensorflow.keras.optimizers import RMSprop\n",
    "\n",
    "from time import time\n",
    "from collections import Counter"
   ]
  },
  {
   "cell_type": "code",
   "execution_count": null,
   "id": "bdf188cf",
   "metadata": {
    "colab": {
     "base_uri": "https://localhost:8080/"
    },
    "executionInfo": {
     "elapsed": 815,
     "status": "ok",
     "timestamp": 1667010870594,
     "user": {
      "displayName": "Yasinda Samaranayake",
      "userId": "17648743904073737948"
     },
     "user_tz": -480
    },
    "id": "bdf188cf",
    "outputId": "4912605f-b69c-4458-a006-f539d69aa779"
   },
   "outputs": [],
   "source": [
    "(mnist_train_images, mnist_train_labels), (mnist_test_images, mnist_test_labels) = mnist.load_data()"
   ]
  },
  {
   "cell_type": "code",
   "execution_count": null,
   "id": "b2207feb",
   "metadata": {},
   "outputs": [],
   "source": [
    "new_images = []\n",
    "new_labels = []\n",
    "class_threshold = 50\n",
    "\n",
    "one=0\n",
    "two=0\n",
    "three=0\n",
    "four=0\n",
    "five=0\n",
    "six=0\n",
    "seven=0\n",
    "eight=0\n",
    "nine=0\n",
    "zero=0\n",
    "\n",
    "for i in range(len(mnist_train_images)): #0-60000\n",
    "    if mnist_train_labels[i]==0:\n",
    "        if zero<class_threshold:\n",
    "            new_images.append(mnist_train_images[i])\n",
    "            new_labels.append(mnist_train_labels[i])\n",
    "            zero+=1\n",
    "    elif mnist_train_labels[i]==1:\n",
    "        if one<class_threshold:\n",
    "            new_images.append(mnist_train_images[i])\n",
    "            new_labels.append(mnist_train_labels[i])\n",
    "            one+=1\n",
    "    elif mnist_train_labels[i]==2:\n",
    "        if two<class_threshold:\n",
    "            new_images.append(mnist_train_images[i])\n",
    "            new_labels.append(mnist_train_labels[i])\n",
    "            two+=1\n",
    "    elif mnist_train_labels[i]==3:\n",
    "        if three<class_threshold:\n",
    "            new_images.append(mnist_train_images[i])\n",
    "            new_labels.append(mnist_train_labels[i])\n",
    "            three+=1\n",
    "    elif mnist_train_labels[i]==4:\n",
    "        if four<class_threshold:\n",
    "            new_images.append(mnist_train_images[i])\n",
    "            new_labels.append(mnist_train_labels[i])\n",
    "            four+=1\n",
    "    elif mnist_train_labels[i]==5:\n",
    "        if five<class_threshold:\n",
    "            new_images.append(mnist_train_images[i])\n",
    "            new_labels.append(mnist_train_labels[i])\n",
    "            five+=1\n",
    "    elif mnist_train_labels[i]==6:\n",
    "        if six<class_threshold:\n",
    "            new_images.append(mnist_train_images[i])\n",
    "            new_labels.append(mnist_train_labels[i])\n",
    "            six+=1\n",
    "    elif mnist_train_labels[i]==7:\n",
    "        if seven<class_threshold:\n",
    "            new_images.append(mnist_train_images[i])\n",
    "            new_labels.append(mnist_train_labels[i])\n",
    "            seven+=1\n",
    "    elif mnist_train_labels[i]==8:\n",
    "        if eight<class_threshold:\n",
    "            new_images.append(mnist_train_images[i])\n",
    "            new_labels.append(mnist_train_labels[i])\n",
    "            eight+=1\n",
    "    elif mnist_train_labels[i]==9:\n",
    "        if nine<class_threshold:\n",
    "            new_images.append(mnist_train_images[i])\n",
    "            new_labels.append(mnist_train_labels[i])\n",
    "            nine+=1"
   ]
  },
  {
   "cell_type": "code",
   "execution_count": null,
   "id": "1e6fbe52",
   "metadata": {},
   "outputs": [],
   "source": [
    "#Renaming back to original name - \n",
    "mnist_train_images = np.array(new_images)\n",
    "mnist_train_labels = np.array(new_labels)"
   ]
  },
  {
   "cell_type": "code",
   "execution_count": null,
   "id": "9a003728",
   "metadata": {},
   "outputs": [],
   "source": [
    "print(Counter(mnist_train_labels).keys()) # equals to list(set(words))\n",
    "print(Counter(mnist_train_labels).values()) # counts the elements' frequency"
   ]
  },
  {
   "cell_type": "code",
   "execution_count": null,
   "id": "fadf4537",
   "metadata": {
    "executionInfo": {
     "elapsed": 6,
     "status": "ok",
     "timestamp": 1667010870596,
     "user": {
      "displayName": "Yasinda Samaranayake",
      "userId": "17648743904073737948"
     },
     "user_tz": -480
    },
    "id": "fadf4537"
   },
   "outputs": [],
   "source": [
    "train_labels = tensorflow.keras.utils.to_categorical(mnist_train_labels, 10)\n",
    "test_labels = tensorflow.keras.utils.to_categorical(mnist_test_labels, 10)"
   ]
  },
  {
   "cell_type": "code",
   "execution_count": null,
   "id": "0556db6d",
   "metadata": {
    "colab": {
     "base_uri": "https://localhost:8080/"
    },
    "executionInfo": {
     "elapsed": 6,
     "status": "ok",
     "timestamp": 1667010870596,
     "user": {
      "displayName": "Yasinda Samaranayake",
      "userId": "17648743904073737948"
     },
     "user_tz": -480
    },
    "id": "0556db6d",
    "outputId": "b90f3589-c735-4c5b-f26b-7216a181b30c"
   },
   "outputs": [],
   "source": [
    "print(\"Count of training images -\", len(train_images))\n",
    "print(\"Count of testing images -\", len(test_images))\n",
    "print(\"Count of training labels -\", len(train_labels))\n",
    "print(\"Count of testing labels -\", len(test_labels))"
   ]
  },
  {
   "cell_type": "code",
   "execution_count": null,
   "id": "200ac974",
   "metadata": {
    "executionInfo": {
     "elapsed": 1873,
     "status": "ok",
     "timestamp": 1667010872464,
     "user": {
      "displayName": "Yasinda Samaranayake",
      "userId": "17648743904073737948"
     },
     "user_tz": -480
    },
    "id": "200ac974"
   },
   "outputs": [],
   "source": [
    "model = Sequential()\n",
    "model.add(Conv2D(64, kernel_size=(3, 3),input_shape=input_shape))\n",
    "model.add(Conv2D(128, (3, 3)))\n",
    "model.add(Flatten())\n",
    "model.add(Dense(256))\n",
    "model.add(Dense(10, activation='softmax'))"
   ]
  },
  {
   "cell_type": "code",
   "execution_count": null,
   "id": "b73abb73",
   "metadata": {
    "colab": {
     "base_uri": "https://localhost:8080/"
    },
    "executionInfo": {
     "elapsed": 24,
     "status": "ok",
     "timestamp": 1667010872465,
     "user": {
      "displayName": "Yasinda Samaranayake",
      "userId": "17648743904073737948"
     },
     "user_tz": -480
    },
    "id": "b73abb73",
    "outputId": "99e5f6d6-f5b5-44bb-8962-731cbc26c071"
   },
   "outputs": [],
   "source": [
    "model.summary()"
   ]
  },
  {
   "cell_type": "code",
   "execution_count": null,
   "id": "bcc9d02c",
   "metadata": {
    "executionInfo": {
     "elapsed": 9,
     "status": "ok",
     "timestamp": 1667010872465,
     "user": {
      "displayName": "Yasinda Samaranayake",
      "userId": "17648743904073737948"
     },
     "user_tz": -480
    },
    "id": "bcc9d02c"
   },
   "outputs": [],
   "source": [
    "model.compile(loss='categorical_crossentropy',\n",
    "              optimizer='adam',\n",
    "              metrics=['accuracy'])"
   ]
  },
  {
   "cell_type": "code",
   "execution_count": null,
   "id": "e056d4c6",
   "metadata": {
    "colab": {
     "base_uri": "https://localhost:8080/"
    },
    "executionInfo": {
     "elapsed": 41743,
     "status": "ok",
     "timestamp": 1667010914200,
     "user": {
      "displayName": "Yasinda Samaranayake",
      "userId": "17648743904073737948"
     },
     "user_tz": -480
    },
    "id": "e056d4c6",
    "outputId": "c772b54c-1f08-47dd-cc04-a8259c56b00c",
    "scrolled": false
   },
   "outputs": [],
   "source": [
    "history = model.fit(train_images, train_labels,\n",
    "                    batch_size=32,\n",
    "                    epochs=10,\n",
    "                    verbose=2,\n",
    "                    validation_data=(test_images, test_labels))"
   ]
  },
  {
   "cell_type": "code",
   "execution_count": null,
   "id": "1b881e55",
   "metadata": {
    "colab": {
     "base_uri": "https://localhost:8080/"
    },
    "executionInfo": {
     "elapsed": 726,
     "status": "ok",
     "timestamp": 1667010914910,
     "user": {
      "displayName": "Yasinda Samaranayake",
      "userId": "17648743904073737948"
     },
     "user_tz": -480
    },
    "id": "1b881e55",
    "outputId": "440515a2-4ac6-4572-bc56-0cc0013b6a82"
   },
   "outputs": [],
   "source": [
    "score = model.evaluate(test_images, test_labels, verbose=0)\n",
    "print('Test loss:', score[0])\n",
    "print('Test accuracy:', score[1])"
   ]
  },
  {
   "cell_type": "code",
   "execution_count": null,
   "id": "3c9637ec",
   "metadata": {
    "colab": {
     "base_uri": "https://localhost:8080/"
    },
    "executionInfo": {
     "elapsed": 1774,
     "status": "ok",
     "timestamp": 1667010916679,
     "user": {
      "displayName": "Yasinda Samaranayake",
      "userId": "17648743904073737948"
     },
     "user_tz": -480
    },
    "id": "3c9637ec",
    "outputId": "f99d3b31-399a-46d0-ac8f-a70186c42315"
   },
   "outputs": [],
   "source": [
    "from sklearn.metrics import confusion_matrix\n",
    "from sklearn.metrics import multilabel_confusion_matrix\n",
    "\n",
    "pred = model.predict(test_images)\n",
    "pred = np.argmax(pred, axis=1)\n",
    "test_labels = np.argmax(test_labels, axis=1)"
   ]
  },
  {
   "cell_type": "code",
   "execution_count": null,
   "id": "6299f750",
   "metadata": {
    "colab": {
     "base_uri": "https://localhost:8080/"
    },
    "executionInfo": {
     "elapsed": 7,
     "status": "ok",
     "timestamp": 1667010916679,
     "user": {
      "displayName": "Yasinda Samaranayake",
      "userId": "17648743904073737948"
     },
     "user_tz": -480
    },
    "id": "6299f750",
    "outputId": "13177544-f867-4d58-adc6-42e91f8f53be"
   },
   "outputs": [],
   "source": [
    "print(\"Prediction for first image - \", pred[2])\n",
    "print(\"Actual first image - \", test_labels[2])"
   ]
  },
  {
   "cell_type": "code",
   "execution_count": null,
   "id": "af7e670e",
   "metadata": {
    "colab": {
     "base_uri": "https://localhost:8080/"
    },
    "executionInfo": {
     "elapsed": 6,
     "status": "ok",
     "timestamp": 1667010916680,
     "user": {
      "displayName": "Yasinda Samaranayake",
      "userId": "17648743904073737948"
     },
     "user_tz": -480
    },
    "id": "af7e670e",
    "outputId": "ba4d037d-7a6f-4575-9b8a-cddb25af5b14"
   },
   "outputs": [],
   "source": [
    "from sklearn.metrics import classification_report\n",
    "\n",
    "class_names = ['Digit 0','Digit 1','Digit 2','Digit 3','Digit 4','Digit 5','Digit 6','Digit 7','Digit 8','Digit 9']\n",
    "print(classification_report(test_labels,pred, target_names = class_names))"
   ]
  }
 ],
 "metadata": {
  "accelerator": "GPU",
  "colab": {
   "collapsed_sections": [],
   "provenance": []
  },
  "gpuClass": "standard",
  "kernelspec": {
   "display_name": "Python 3 (ipykernel)",
   "language": "python",
   "name": "python3"
  },
  "language_info": {
   "codemirror_mode": {
    "name": "ipython",
    "version": 3
   },
   "file_extension": ".py",
   "mimetype": "text/x-python",
   "name": "python",
   "nbconvert_exporter": "python",
   "pygments_lexer": "ipython3",
   "version": "3.9.12"
  }
 },
 "nbformat": 4,
 "nbformat_minor": 5
}
