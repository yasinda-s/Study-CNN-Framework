{
 "cells": [
  {
   "cell_type": "code",
   "execution_count": null,
   "id": "bdb008ee",
   "metadata": {
    "id": "bdb008ee"
   },
   "outputs": [],
   "source": [
    "import numpy as np\n",
    "import seaborn as sns\n",
    "from matplotlib import pyplot as plt\n",
    "from scipy.io import loadmat\n",
    "from sklearn.model_selection import train_test_split\n",
    "from tensorflow.keras.datasets import mnist\n",
    "\n",
    "from sklearn.preprocessing import LabelBinarizer\n",
    "from sklearn.metrics import confusion_matrix\n",
    "from keras.preprocessing.image import ImageDataGenerator\n",
    "import tensorflow\n",
    "import tensorflow as tf\n",
    "from time import time\n",
    "from collections import Counter\n",
    "import keras\n",
    "from keras.layers import Dense, Conv2D, BatchNormalization, Activation, Dropout\n",
    "from keras.layers import AveragePooling2D, Input, Flatten\n",
    "from keras.optimizers import Adam\n",
    "from keras.callbacks import ModelCheckpoint, LearningRateScheduler\n",
    "from keras import backend as K\n",
    "from keras.models import Model\n",
    "%matplotlib inline"
   ]
  },
  {
   "cell_type": "code",
   "execution_count": null,
   "id": "aa9d9df3",
   "metadata": {
    "id": "aa9d9df3"
   },
   "outputs": [],
   "source": [
    "batch_size = 32 \n",
    "epochs = 200\n",
    "num_classes = 10\n",
    "depth = 20\n",
    "subtract_pixel_mean = True\n",
    "\n",
    "model_type = 'ResNet%d' % (depth)"
   ]
  },
  {
   "cell_type": "code",
   "execution_count": null,
   "id": "aacfbd60",
   "metadata": {
    "colab": {
     "base_uri": "https://localhost:8080/"
    },
    "id": "aacfbd60",
    "outputId": "3ce402d1-af8f-4cf2-b33f-597b044dabdd"
   },
   "outputs": [],
   "source": [
    "(mnist_train_images, mnist_train_labels), (mnist_test_images, mnist_test_labels) = mnist.load_data()"
   ]
  },
  {
   "cell_type": "code",
   "execution_count": null,
   "id": "8d203e39",
   "metadata": {
    "colab": {
     "base_uri": "https://localhost:8080/"
    },
    "id": "8d203e39",
    "outputId": "3182f34e-c092-405e-8a9f-51119cbf99cd"
   },
   "outputs": [],
   "source": [
    "print(Counter(mnist_train_labels).keys()) # equals to list(set(words))\n",
    "print(Counter(mnist_train_labels).values()) # counts the elements' frequency"
   ]
  },
  {
   "cell_type": "code",
   "execution_count": null,
   "id": "669CpHHQGqYG",
   "metadata": {
    "id": "669CpHHQGqYG"
   },
   "outputs": [],
   "source": [
    "new_images = []\n",
    "new_labels = []\n",
    "class_threshold = 50\n",
    "\n",
    "one=0\n",
    "two=0\n",
    "three=0\n",
    "four=0\n",
    "five=0\n",
    "six=0\n",
    "seven=0\n",
    "eight=0\n",
    "nine=0\n",
    "zero=0\n",
    "\n",
    "for i in range(len(mnist_train_images)): #0-60000\n",
    "    if mnist_train_labels[i]==0:\n",
    "        if zero<class_threshold:\n",
    "            new_images.append(mnist_train_images[i])\n",
    "            new_labels.append(mnist_train_labels[i])\n",
    "            zero+=1\n",
    "    elif mnist_train_labels[i]==1:\n",
    "        if one<class_threshold:\n",
    "            new_images.append(mnist_train_images[i])\n",
    "            new_labels.append(mnist_train_labels[i])\n",
    "            one+=1\n",
    "    elif mnist_train_labels[i]==2:\n",
    "        if two<class_threshold:\n",
    "            new_images.append(mnist_train_images[i])\n",
    "            new_labels.append(mnist_train_labels[i])\n",
    "            two+=1\n",
    "    elif mnist_train_labels[i]==3:\n",
    "        if three<class_threshold:\n",
    "            new_images.append(mnist_train_images[i])\n",
    "            new_labels.append(mnist_train_labels[i])\n",
    "            three+=1\n",
    "    elif mnist_train_labels[i]==4:\n",
    "        if four<class_threshold:\n",
    "            new_images.append(mnist_train_images[i])\n",
    "            new_labels.append(mnist_train_labels[i])\n",
    "            four+=1\n",
    "    elif mnist_train_labels[i]==5:\n",
    "        if five<class_threshold:\n",
    "            new_images.append(mnist_train_images[i])\n",
    "            new_labels.append(mnist_train_labels[i])\n",
    "            five+=1\n",
    "    elif mnist_train_labels[i]==6:\n",
    "        if six<class_threshold:\n",
    "            new_images.append(mnist_train_images[i])\n",
    "            new_labels.append(mnist_train_labels[i])\n",
    "            six+=1\n",
    "    elif mnist_train_labels[i]==7:\n",
    "        if seven<class_threshold:\n",
    "            new_images.append(mnist_train_images[i])\n",
    "            new_labels.append(mnist_train_labels[i])\n",
    "            seven+=1\n",
    "    elif mnist_train_labels[i]==8:\n",
    "        if eight<class_threshold:\n",
    "            new_images.append(mnist_train_images[i])\n",
    "            new_labels.append(mnist_train_labels[i])\n",
    "            eight+=1\n",
    "    elif mnist_train_labels[i]==9:\n",
    "        if nine<class_threshold:\n",
    "            new_images.append(mnist_train_images[i])\n",
    "            new_labels.append(mnist_train_labels[i])\n",
    "            nine+=1"
   ]
  },
  {
   "cell_type": "code",
   "execution_count": null,
   "id": "bROBsWlBGqTp",
   "metadata": {
    "id": "bROBsWlBGqTp"
   },
   "outputs": [],
   "source": [
    "#Renaming back to original name - \n",
    "mnist_train_images = np.array(new_images)\n",
    "mnist_train_labels = np.array(new_labels)"
   ]
  },
  {
   "cell_type": "code",
   "execution_count": null,
   "id": "P_u-CCZoGqO-",
   "metadata": {
    "colab": {
     "base_uri": "https://localhost:8080/"
    },
    "id": "P_u-CCZoGqO-",
    "outputId": "80818969-665b-43a8-e7f3-09a609e49039"
   },
   "outputs": [],
   "source": [
    "print(Counter(mnist_train_labels).keys()) # equals to list(set(words))\n",
    "print(Counter(mnist_train_labels).values()) # counts the elements' frequency"
   ]
  },
  {
   "cell_type": "code",
   "execution_count": null,
   "id": "UvCDNDpm6qTB",
   "metadata": {
    "id": "UvCDNDpm6qTB"
   },
   "outputs": [],
   "source": [
    "from tensorflow.keras import backend as K\n",
    "\n",
    "if K.image_data_format() == 'channels_first':\n",
    "    train_images = mnist_train_images.reshape(mnist_train_images.shape[0], 1, 28, 28)\n",
    "    test_images = mnist_test_images.reshape(mnist_test_images.shape[0], 1, 28, 28)\n",
    "    input_shape = (1, 28, 28) #if the dataset has the channels first, then we do (1, 28, 28)\n",
    "else:\n",
    "    train_images = mnist_train_images.reshape(mnist_train_images.shape[0], 28, 28, 1)\n",
    "    test_images = mnist_test_images.reshape(mnist_test_images.shape[0], 28, 28, 1)\n",
    "    input_shape = (28, 28, 1) #if the dataset has features first, then we do (28, 28, 1)\n",
    "    \n",
    "train_images = train_images.astype('float32')\n",
    "test_images = test_images.astype('float32')\n",
    "train_images /= 255\n",
    "test_images /= 255"
   ]
  },
  {
   "cell_type": "code",
   "execution_count": null,
   "id": "ZO2hdcpb6rSL",
   "metadata": {
    "id": "ZO2hdcpb6rSL"
   },
   "outputs": [],
   "source": [
    "train_labels = tensorflow.keras.utils.to_categorical(mnist_train_labels, 10)\n",
    "test_labels = tensorflow.keras.utils.to_categorical(mnist_test_labels, 10)"
   ]
  },
  {
   "cell_type": "code",
   "execution_count": null,
   "id": "MQmPL_C16sP8",
   "metadata": {
    "colab": {
     "base_uri": "https://localhost:8080/"
    },
    "id": "MQmPL_C16sP8",
    "outputId": "66e11495-a44c-448d-b62d-6b890bb13519"
   },
   "outputs": [],
   "source": [
    "print(\"Count of training images -\", len(train_images))\n",
    "print(\"Count of testing images -\", len(test_images))\n",
    "print(\"Count of training labels -\", len(train_labels))\n",
    "print(\"Count of testing labels -\", len(test_labels))"
   ]
  },
  {
   "cell_type": "code",
   "execution_count": null,
   "id": "eb1812ab",
   "metadata": {
    "id": "eb1812ab"
   },
   "outputs": [],
   "source": [
    "lb = LabelBinarizer()\n",
    "train_labels = lb.fit_transform(train_labels)\n",
    "test_labels = lb.fit_transform(test_labels)"
   ]
  },
  {
   "cell_type": "code",
   "execution_count": null,
   "id": "ce6dac34",
   "metadata": {},
   "outputs": [],
   "source": [
    "#The following excerpt of codes was extracted and modified from - \n",
    "#Arvind Singh, Y. (2019) Yasharvindsingh/Resnet20: A ResNet architecture implemented in Keras, GitHub. \n",
    "#Available at: https://github.com/yasharvindsingh/ResNet20\n",
    "#Strictly, only the architecture."
   ]
  },
  {
   "cell_type": "code",
   "execution_count": null,
   "id": "eT0ih7h46BPV",
   "metadata": {
    "id": "eT0ih7h46BPV"
   },
   "outputs": [],
   "source": [
    "def lr_schedule(epoch):\n",
    "  lr = 1e-3\n",
    "  if epoch > 180:\n",
    "      lr *= 0.5e-3\n",
    "  elif epoch > 160:\n",
    "      lr *= 1e-3\n",
    "  elif epoch > 120:\n",
    "      lr *= 1e-2\n",
    "  elif epoch > 80:\n",
    "      lr *= 1e-1\n",
    "  print('Learning rate: ', lr)\n",
    "  return lr"
   ]
  },
  {
   "cell_type": "code",
   "execution_count": null,
   "id": "IMRIpLq36B2u",
   "metadata": {
    "id": "IMRIpLq36B2u"
   },
   "outputs": [],
   "source": [
    "def resnet_layer(inputs, num_filters=16, kernel_size=3, strides=1, activation='relu', batch_normalization=True, conv_first=True):\n",
    "  \n",
    "  conv = Conv2D(num_filters, kernel_size=kernel_size, strides=strides, padding='same')\n",
    "\n",
    "  x = inputs\n",
    "  if conv_first:\n",
    "      x = conv(x)\n",
    "      if batch_normalization:\n",
    "          x = BatchNormalization()(x)\n",
    "      if activation is not None:\n",
    "          x = Activation(activation)(x)\n",
    "  else:\n",
    "      if batch_normalization:\n",
    "          x = BatchNormalization()(x)\n",
    "      if activation is not None:\n",
    "          x = Activation(activation)(x)\n",
    "      x = conv(x)\n",
    "  return x"
   ]
  },
  {
   "cell_type": "code",
   "execution_count": null,
   "id": "ohF17Rmm6DD9",
   "metadata": {
    "id": "ohF17Rmm6DD9"
   },
   "outputs": [],
   "source": [
    "def resnet_v1(input_shape, depth, num_classes=10):\n",
    "    \n",
    "    if (depth - 2) % 6 != 0:\n",
    "        raise ValueError('depth should be 6n+2 (eg 20, 32, 44 in [a])')\n",
    "    # Start model definition.\n",
    "    num_filters = 16\n",
    "    num_res_blocks = int((depth - 2) / 6)\n",
    "\n",
    "    inputs = Input(shape=input_shape)\n",
    "    x = resnet_layer(inputs=inputs)\n",
    "    # Instantiate the stack of residual units\n",
    "    for stack in range(3):\n",
    "        for res_block in range(num_res_blocks):\n",
    "            strides = 1\n",
    "            if stack > 0 and res_block == 0:  # first layer but not first stack\n",
    "                strides = 2  # downsample\n",
    "            y = resnet_layer(inputs=x,num_filters=num_filters,strides=strides)\n",
    "            y = resnet_layer(inputs=y,num_filters=num_filters,activation=None)\n",
    "            if stack > 0 and res_block == 0:  # first layer but not first stack\n",
    "                # linear projection residual shortcut connection to match\n",
    "                # changed dims\n",
    "                x = resnet_layer(inputs=x,num_filters=num_filters,kernel_size=1,strides=strides,activation=None,batch_normalization=False)\n",
    "            x = keras.layers.add([x, y])\n",
    "            x = Activation('relu')(x)\n",
    "            x = Dropout(rate=0.25)(x)\n",
    "        num_filters *= 2\n",
    "\n",
    "    # Add classifier on top.\n",
    "    # v1 does not use BN after last shortcut connection-ReLU\n",
    "    x = AveragePooling2D(pool_size=7)(x)\n",
    "    y = Flatten()(x)\n",
    "    outputs = Dense(num_classes, activation='softmax')(y)\n",
    "\n",
    "    # Instantiate model.\n",
    "    model = Model(inputs=inputs, outputs=outputs)\n",
    "    return model"
   ]
  },
  {
   "cell_type": "code",
   "execution_count": null,
   "id": "r4M3GIDJ6Glp",
   "metadata": {
    "id": "r4M3GIDJ6Glp"
   },
   "outputs": [],
   "source": [
    "model = resnet_v1(input_shape=(28, 28, 1), depth=depth)"
   ]
  },
  {
   "cell_type": "code",
   "execution_count": null,
   "id": "39c74ccf",
   "metadata": {
    "colab": {
     "base_uri": "https://localhost:8080/"
    },
    "id": "39c74ccf",
    "outputId": "be8fced4-2cb5-4f2f-b7d7-8f785580ee81"
   },
   "outputs": [],
   "source": [
    "opt = optimizer=Adam(lr=lr_schedule(0))\n",
    "\n",
    "model.compile(loss='categorical_crossentropy',\n",
    "              optimizer=opt,\n",
    "              metrics=['accuracy'])\n",
    "\n",
    "\n",
    "earlyStopping = tensorflow.keras.callbacks.EarlyStopping(\n",
    "    monitor='val_accuracy',\n",
    "    min_delta=0,\n",
    "    patience=20,\n",
    "    verbose=1,\n",
    "    mode='auto',\n",
    "    baseline=None,\n",
    "    restore_best_weights=False\n",
    ")\n",
    "\n",
    "lr_scheduler = LearningRateScheduler(lr_schedule)\n",
    "\n",
    "cb = [earlyStopping, lr_scheduler]\n"
   ]
  },
  {
   "cell_type": "code",
   "execution_count": null,
   "id": "YaHLzKhV6fuC",
   "metadata": {
    "colab": {
     "base_uri": "https://localhost:8080/"
    },
    "id": "YaHLzKhV6fuC",
    "outputId": "58bd1978-ff5c-4acb-da14-038d179c28b6"
   },
   "outputs": [],
   "source": [
    "model.summary()"
   ]
  },
  {
   "cell_type": "code",
   "execution_count": null,
   "id": "add1ce3a",
   "metadata": {
    "colab": {
     "base_uri": "https://localhost:8080/"
    },
    "id": "add1ce3a",
    "outputId": "80768d9c-7657-422e-8b61-a704cf20c883"
   },
   "outputs": [],
   "source": [
    "history = model.fit(train_images, train_labels,\n",
    "                    batch_size=16,\n",
    "                    epochs=100,\n",
    "                    validation_data=(test_images, test_labels), shuffle=True, callbacks=cb)"
   ]
  }
 ],
 "metadata": {
  "accelerator": "GPU",
  "colab": {
   "provenance": []
  },
  "gpuClass": "standard",
  "kernelspec": {
   "display_name": "Python 3 (ipykernel)",
   "language": "python",
   "name": "python3"
  },
  "language_info": {
   "codemirror_mode": {
    "name": "ipython",
    "version": 3
   },
   "file_extension": ".py",
   "mimetype": "text/x-python",
   "name": "python",
   "nbconvert_exporter": "python",
   "pygments_lexer": "ipython3",
   "version": "3.9.12"
  }
 },
 "nbformat": 4,
 "nbformat_minor": 5
}
