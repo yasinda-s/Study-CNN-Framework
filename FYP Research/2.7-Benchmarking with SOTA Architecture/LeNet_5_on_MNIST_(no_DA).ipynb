{
 "cells": [
  {
   "cell_type": "code",
   "execution_count": null,
   "id": "e2bb9cc1",
   "metadata": {
    "id": "e2bb9cc1"
   },
   "outputs": [],
   "source": [
    "import tensorflow\n",
    "import numpy as np\n",
    "import seaborn as sns\n",
    "from tensorflow.keras.datasets import mnist\n",
    "from tensorflow.keras.models import Sequential\n",
    "from tensorflow.keras.layers import Dense, Dropout, Conv2D, MaxPooling2D, Flatten, BatchNormalization, AveragePooling2D\n",
    "from tensorflow.keras.optimizers import RMSprop\n",
    "from tensorflow.keras.callbacks import TensorBoard\n",
    "import keras\n",
    "from keras.utils import to_categorical\n",
    "\n",
    "from time import time\n",
    "from collections import Counter"
   ]
  },
  {
   "cell_type": "code",
   "execution_count": null,
   "id": "bdf188cf",
   "metadata": {
    "colab": {
     "base_uri": "https://localhost:8080/"
    },
    "id": "bdf188cf",
    "outputId": "1c103d96-c30f-4553-d197-858a7b82e93d"
   },
   "outputs": [],
   "source": [
    "(mnist_train_images, mnist_train_labels), (mnist_test_images, mnist_test_labels) = mnist.load_data()"
   ]
  },
  {
   "cell_type": "code",
   "execution_count": null,
   "id": "a8e9c3e5",
   "metadata": {
    "colab": {
     "base_uri": "https://localhost:8080/"
    },
    "id": "a8e9c3e5",
    "outputId": "719fbf03-c53e-47f3-de87-5fddc1c3863d"
   },
   "outputs": [],
   "source": [
    "print(Counter(mnist_train_labels).keys()) # equals to list(set(words))\n",
    "print(Counter(mnist_train_labels).values()) # counts the elements' frequency"
   ]
  },
  {
   "cell_type": "code",
   "execution_count": null,
   "id": "SXRoRYwcx0Mm",
   "metadata": {
    "colab": {
     "base_uri": "https://localhost:8080/"
    },
    "id": "SXRoRYwcx0Mm",
    "outputId": "7939c70e-1827-45a0-96e2-bdd3a50461c7"
   },
   "outputs": [],
   "source": [
    "img_row, img_cols = 28, 28\n",
    "input_shape = (img_row, img_cols, 1)\n",
    "\n",
    "mnist_train_images = mnist_train_images.reshape(mnist_train_images.shape[0], img_cols, img_row, 1)\n",
    "mnist_test_images = mnist_test_images.reshape(mnist_test_images.shape[0], img_cols, img_row, 1)\n",
    "\n",
    "print(\"Train set shape\", mnist_train_images.shape, 'trainlabel shape', mnist_train_labels.shape)\n",
    "print('test set shape', mnist_test_images.shape, 'test labels:', mnist_test_labels.shape)"
   ]
  },
  {
   "cell_type": "code",
   "execution_count": null,
   "id": "Ckkk6HM1x8Tm",
   "metadata": {
    "id": "Ckkk6HM1x8Tm"
   },
   "outputs": [],
   "source": [
    "# normalization of data\n",
    "mnist_train_images = (mnist_train_images - mnist_train_images.mean()) / mnist_train_images.std()\n",
    "mnist_test_images = (mnist_test_images - mnist_test_images.mean()) / mnist_test_images.std()"
   ]
  },
  {
   "cell_type": "code",
   "execution_count": null,
   "id": "PJOSY1KdJ29G",
   "metadata": {
    "colab": {
     "base_uri": "https://localhost:8080/"
    },
    "id": "PJOSY1KdJ29G",
    "outputId": "832b80ec-694b-4eac-b2ae-9edfd7e6f8c1"
   },
   "outputs": [],
   "source": [
    "new_images = []\n",
    "new_labels = []\n",
    "class_threshold = 50\n",
    "\n",
    "one=0\n",
    "two=0\n",
    "three=0\n",
    "four=0\n",
    "five=0\n",
    "six=0\n",
    "seven=0\n",
    "eight=0\n",
    "nine=0\n",
    "zero=0\n",
    "\n",
    "for i in range(len(mnist_train_images)): #0-60000\n",
    "    if mnist_train_labels[i]==0:\n",
    "        if zero<class_threshold:\n",
    "            new_images.append(mnist_train_images[i])\n",
    "            new_labels.append(mnist_train_labels[i])\n",
    "            zero+=1\n",
    "    elif mnist_train_labels[i]==1:\n",
    "        if one<class_threshold:\n",
    "            new_images.append(mnist_train_images[i])\n",
    "            new_labels.append(mnist_train_labels[i])\n",
    "            one+=1\n",
    "    elif mnist_train_labels[i]==2:\n",
    "        if two<class_threshold:\n",
    "            new_images.append(mnist_train_images[i])\n",
    "            new_labels.append(mnist_train_labels[i])\n",
    "            two+=1\n",
    "    elif mnist_train_labels[i]==3:\n",
    "        if three<class_threshold:\n",
    "            new_images.append(mnist_train_images[i])\n",
    "            new_labels.append(mnist_train_labels[i])\n",
    "            three+=1\n",
    "    elif mnist_train_labels[i]==4:\n",
    "        if four<class_threshold:\n",
    "            new_images.append(mnist_train_images[i])\n",
    "            new_labels.append(mnist_train_labels[i])\n",
    "            four+=1\n",
    "    elif mnist_train_labels[i]==5:\n",
    "        if five<class_threshold:\n",
    "            new_images.append(mnist_train_images[i])\n",
    "            new_labels.append(mnist_train_labels[i])\n",
    "            five+=1\n",
    "    elif mnist_train_labels[i]==6:\n",
    "        if six<class_threshold:\n",
    "            new_images.append(mnist_train_images[i])\n",
    "            new_labels.append(mnist_train_labels[i])\n",
    "            six+=1\n",
    "    elif mnist_train_labels[i]==7:\n",
    "        if seven<class_threshold:\n",
    "            new_images.append(mnist_train_images[i])\n",
    "            new_labels.append(mnist_train_labels[i])\n",
    "            seven+=1\n",
    "    elif mnist_train_labels[i]==8:\n",
    "        if eight<class_threshold:\n",
    "            new_images.append(mnist_train_images[i])\n",
    "            new_labels.append(mnist_train_labels[i])\n",
    "            eight+=1\n",
    "    elif mnist_train_labels[i]==9:\n",
    "        if nine<class_threshold:\n",
    "            new_images.append(mnist_train_images[i])\n",
    "            new_labels.append(mnist_train_labels[i])\n",
    "            nine+=1\n",
    "\n",
    "#Renaming back to original name - \n",
    "mnist_train_images = np.array(new_images)\n",
    "mnist_train_labels = np.array(new_labels)\n",
    "\n",
    "print(Counter(mnist_train_labels).keys()) # equals to list(set(words))\n",
    "print(Counter(mnist_train_labels).values()) # counts the elements' frequency"
   ]
  },
  {
   "cell_type": "code",
   "execution_count": null,
   "id": "fadf4537",
   "metadata": {
    "id": "fadf4537"
   },
   "outputs": [],
   "source": [
    "train_labels = tensorflow.keras.utils.to_categorical(mnist_train_labels, 10)\n",
    "test_labels = tensorflow.keras.utils.to_categorical(mnist_test_labels, 10)"
   ]
  },
  {
   "cell_type": "code",
   "execution_count": null,
   "id": "0556db6d",
   "metadata": {
    "colab": {
     "base_uri": "https://localhost:8080/"
    },
    "id": "0556db6d",
    "outputId": "995ad830-6dc5-42ea-a97e-283f3da13f11"
   },
   "outputs": [],
   "source": [
    "print(\"Count of training images -\", len(mnist_train_images))\n",
    "print(\"Count of testing images -\", len(mnist_test_images))\n",
    "print(\"Count of training labels -\", len(mnist_train_labels))\n",
    "print(\"Count of testing labels -\", len(mnist_test_labels))"
   ]
  },
  {
   "cell_type": "code",
   "execution_count": null,
   "id": "TuY_1PlAyF0g",
   "metadata": {
    "id": "TuY_1PlAyF0g"
   },
   "outputs": [],
   "source": [
    "num_labels = 10\n",
    "\n",
    "mnist_train_labels = keras.utils.to_categorical(mnist_train_labels)\n",
    "mnist_test_labels = keras.utils.to_categorical(mnist_test_labels)"
   ]
  },
  {
   "cell_type": "code",
   "execution_count": null,
   "id": "eef71da6",
   "metadata": {},
   "outputs": [],
   "source": [
    "#The following excerpt of codes was extracted and modified from - \n",
    "#Alake, R. (2022) Understanding and implementing lenet-5 CNN Architecture (Deep Learning), Medium. Towards Data Science. \n",
    "#Available at: https://towardsdatascience.com/understanding-and-implementing-lenet-5-cnn-architecture-deep-learning-a2d531ebc342\n",
    "#Strictly, only the architecture."
   ]
  },
  {
   "cell_type": "code",
   "execution_count": null,
   "id": "200ac974",
   "metadata": {
    "id": "200ac974"
   },
   "outputs": [],
   "source": [
    "model = Sequential()\n",
    "model.add(Conv2D(6, kernel_size=(5, 5), strides=(1, 1), activation='tanh', input_shape=(28,28,1)))\n",
    "model.add(AveragePooling2D(pool_size=(2, 2), strides=(1, 1)))\n",
    "model.add(Conv2D(16, kernel_size=(5, 5), strides=(1, 1), activation='tanh'))\n",
    "model.add(AveragePooling2D(pool_size=(2, 2), strides=(2, 2)))\n",
    "model.add(Conv2D(120, kernel_size=(5, 5), strides=(1, 1), activation='tanh'))\n",
    "model.add(Flatten())\n",
    "model.add(Dense(84, activation='tanh'))\n",
    "model.add(Dense(10, activation='softmax'))"
   ]
  },
  {
   "cell_type": "code",
   "execution_count": null,
   "id": "b73abb73",
   "metadata": {
    "colab": {
     "base_uri": "https://localhost:8080/"
    },
    "id": "b73abb73",
    "outputId": "092be7b5-b0d3-4301-bd5f-7051318080c4"
   },
   "outputs": [],
   "source": [
    "model.summary()"
   ]
  },
  {
   "cell_type": "code",
   "execution_count": null,
   "id": "bcc9d02c",
   "metadata": {
    "id": "bcc9d02c"
   },
   "outputs": [],
   "source": [
    "model.compile(loss='categorical_crossentropy',\n",
    "              optimizer='SGD',\n",
    "              metrics=['accuracy'])\n",
    "\n",
    "cb = tensorflow.keras.callbacks.EarlyStopping(\n",
    "    monitor='val_accuracy',\n",
    "    min_delta=0,\n",
    "    patience=20,\n",
    "    verbose=0,\n",
    "    mode='auto',\n",
    "    baseline=None,\n",
    "    restore_best_weights=False\n",
    ")"
   ]
  },
  {
   "cell_type": "code",
   "execution_count": null,
   "id": "e056d4c6",
   "metadata": {
    "colab": {
     "base_uri": "https://localhost:8080/"
    },
    "id": "e056d4c6",
    "outputId": "8c7f8003-9582-4a83-9ac9-84a5d8790f8c",
    "scrolled": false
   },
   "outputs": [],
   "source": [
    "history = model.fit(mnist_train_images, mnist_train_labels,\n",
    "                    batch_size=16,\n",
    "                    epochs=100,\n",
    "                    verbose=2,\n",
    "                    validation_data=(mnist_test_images, mnist_test_labels), callbacks=cb)"
   ]
  },
  {
   "cell_type": "code",
   "execution_count": null,
   "id": "3fe4f5d2",
   "metadata": {
    "id": "3fe4f5d2"
   },
   "outputs": [],
   "source": [
    "max(history.history['val_accuracy'])"
   ]
  }
 ],
 "metadata": {
  "accelerator": "GPU",
  "colab": {
   "provenance": []
  },
  "kernelspec": {
   "display_name": "Python 3 (ipykernel)",
   "language": "python",
   "name": "python3"
  },
  "language_info": {
   "codemirror_mode": {
    "name": "ipython",
    "version": 3
   },
   "file_extension": ".py",
   "mimetype": "text/x-python",
   "name": "python",
   "nbconvert_exporter": "python",
   "pygments_lexer": "ipython3",
   "version": "3.9.12"
  }
 },
 "nbformat": 4,
 "nbformat_minor": 5
}
