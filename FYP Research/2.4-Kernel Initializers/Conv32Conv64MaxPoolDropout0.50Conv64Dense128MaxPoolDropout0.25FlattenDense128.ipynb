{
 "cells": [
  {
   "cell_type": "code",
   "execution_count": null,
   "id": "6594797d",
   "metadata": {},
   "outputs": [],
   "source": [
    "# The following codes and networks are original work by Yasinda Samaranayake in 2023."
   ]
  },
  {
   "cell_type": "code",
   "execution_count": null,
   "id": "e2bb9cc1",
   "metadata": {
    "executionInfo": {
     "elapsed": 3963,
     "status": "ok",
     "timestamp": 1667628656629,
     "user": {
      "displayName": "Yasinda Samaranayake",
      "userId": "17648743904073737948"
     },
     "user_tz": -480
    },
    "id": "e2bb9cc1"
   },
   "outputs": [],
   "source": [
    "import tensorflow\n",
    "import numpy as np\n",
    "import seaborn as sns\n",
    "from tensorflow.keras.datasets import mnist\n",
    "from tensorflow.keras.models import Sequential\n",
    "from tensorflow.keras.layers import Dense, Dropout, Conv2D, MaxPooling2D, Flatten\n",
    "from tensorflow.keras.optimizers import RMSprop\n",
    "from tensorflow.keras.callbacks import TensorBoard\n",
    "\n",
    "from time import time\n",
    "from collections import Counter"
   ]
  },
  {
   "cell_type": "code",
   "execution_count": null,
   "id": "bdf188cf",
   "metadata": {
    "colab": {
     "base_uri": "https://localhost:8080/"
    },
    "executionInfo": {
     "elapsed": 3127,
     "status": "ok",
     "timestamp": 1667628659740,
     "user": {
      "displayName": "Yasinda Samaranayake",
      "userId": "17648743904073737948"
     },
     "user_tz": -480
    },
    "id": "bdf188cf",
    "outputId": "8e6c52b5-4069-45a2-8839-8c779e2a0db2"
   },
   "outputs": [],
   "source": [
    "(mnist_train_images, mnist_train_labels), (mnist_test_images, mnist_test_labels) = mnist.load_data()"
   ]
  },
  {
   "cell_type": "code",
   "execution_count": null,
   "id": "8d393970",
   "metadata": {},
   "outputs": [],
   "source": [
    "new_images = []\n",
    "new_labels = []\n",
    "class_threshold = 50\n",
    "\n",
    "one=0\n",
    "two=0\n",
    "three=0\n",
    "four=0\n",
    "five=0\n",
    "six=0\n",
    "seven=0\n",
    "eight=0\n",
    "nine=0\n",
    "zero=0\n",
    "\n",
    "for i in range(len(mnist_train_images)): #0-60000\n",
    "    if mnist_train_labels[i]==0:\n",
    "        if zero<class_threshold:\n",
    "            new_images.append(mnist_train_images[i])\n",
    "            new_labels.append(mnist_train_labels[i])\n",
    "            zero+=1\n",
    "    elif mnist_train_labels[i]==1:\n",
    "        if one<class_threshold:\n",
    "            new_images.append(mnist_train_images[i])\n",
    "            new_labels.append(mnist_train_labels[i])\n",
    "            one+=1\n",
    "    elif mnist_train_labels[i]==2:\n",
    "        if two<class_threshold:\n",
    "            new_images.append(mnist_train_images[i])\n",
    "            new_labels.append(mnist_train_labels[i])\n",
    "            two+=1\n",
    "    elif mnist_train_labels[i]==3:\n",
    "        if three<class_threshold:\n",
    "            new_images.append(mnist_train_images[i])\n",
    "            new_labels.append(mnist_train_labels[i])\n",
    "            three+=1\n",
    "    elif mnist_train_labels[i]==4:\n",
    "        if four<class_threshold:\n",
    "            new_images.append(mnist_train_images[i])\n",
    "            new_labels.append(mnist_train_labels[i])\n",
    "            four+=1\n",
    "    elif mnist_train_labels[i]==5:\n",
    "        if five<class_threshold:\n",
    "            new_images.append(mnist_train_images[i])\n",
    "            new_labels.append(mnist_train_labels[i])\n",
    "            five+=1\n",
    "    elif mnist_train_labels[i]==6:\n",
    "        if six<class_threshold:\n",
    "            new_images.append(mnist_train_images[i])\n",
    "            new_labels.append(mnist_train_labels[i])\n",
    "            six+=1\n",
    "    elif mnist_train_labels[i]==7:\n",
    "        if seven<class_threshold:\n",
    "            new_images.append(mnist_train_images[i])\n",
    "            new_labels.append(mnist_train_labels[i])\n",
    "            seven+=1\n",
    "    elif mnist_train_labels[i]==8:\n",
    "        if eight<class_threshold:\n",
    "            new_images.append(mnist_train_images[i])\n",
    "            new_labels.append(mnist_train_labels[i])\n",
    "            eight+=1\n",
    "    elif mnist_train_labels[i]==9:\n",
    "        if nine<class_threshold:\n",
    "            new_images.append(mnist_train_images[i])\n",
    "            new_labels.append(mnist_train_labels[i])\n",
    "            nine+=1"
   ]
  },
  {
   "cell_type": "code",
   "execution_count": null,
   "id": "0f78c0b7",
   "metadata": {},
   "outputs": [],
   "source": [
    "#Renaming back to original name - \n",
    "mnist_train_images = np.array(new_images)\n",
    "mnist_train_labels = np.array(new_labels)"
   ]
  },
  {
   "cell_type": "code",
   "execution_count": null,
   "id": "7cdb5aab",
   "metadata": {},
   "outputs": [],
   "source": [
    "print(Counter(mnist_train_labels).keys()) # equals to list(set(words))\n",
    "print(Counter(mnist_train_labels).values()) # counts the elements' frequency"
   ]
  },
  {
   "cell_type": "code",
   "execution_count": null,
   "id": "ef588ffe",
   "metadata": {
    "executionInfo": {
     "elapsed": 6,
     "status": "ok",
     "timestamp": 1667628659741,
     "user": {
      "displayName": "Yasinda Samaranayake",
      "userId": "17648743904073737948"
     },
     "user_tz": -480
    },
    "id": "ef588ffe"
   },
   "outputs": [],
   "source": [
    "from tensorflow.keras import backend as K\n",
    "\n",
    "if K.image_data_format() == 'channels_first':\n",
    "    train_images = mnist_train_images.reshape(mnist_train_images.shape[0], 1, 28, 28)\n",
    "    test_images = mnist_test_images.reshape(mnist_test_images.shape[0], 1, 28, 28)\n",
    "    input_shape = (1, 28, 28) #if the dataset has the channels first, then we do (1, 28, 28)\n",
    "else:\n",
    "    train_images = mnist_train_images.reshape(mnist_train_images.shape[0], 28, 28, 1)\n",
    "    test_images = mnist_test_images.reshape(mnist_test_images.shape[0], 28, 28, 1)\n",
    "    input_shape = (28, 28, 1) #if the dataset has features first, then we do (28, 28, 1)\n",
    "    \n",
    "train_images = train_images.astype('float32')\n",
    "test_images = test_images.astype('float32')\n",
    "train_images /= 255\n",
    "test_images /= 255"
   ]
  },
  {
   "cell_type": "code",
   "execution_count": null,
   "id": "fadf4537",
   "metadata": {
    "executionInfo": {
     "elapsed": 5,
     "status": "ok",
     "timestamp": 1667628659741,
     "user": {
      "displayName": "Yasinda Samaranayake",
      "userId": "17648743904073737948"
     },
     "user_tz": -480
    },
    "id": "fadf4537"
   },
   "outputs": [],
   "source": [
    "train_labels = tensorflow.keras.utils.to_categorical(mnist_train_labels, 10)\n",
    "test_labels = tensorflow.keras.utils.to_categorical(mnist_test_labels, 10)"
   ]
  },
  {
   "cell_type": "code",
   "execution_count": null,
   "id": "0556db6d",
   "metadata": {
    "colab": {
     "base_uri": "https://localhost:8080/"
    },
    "executionInfo": {
     "elapsed": 6,
     "status": "ok",
     "timestamp": 1667628659742,
     "user": {
      "displayName": "Yasinda Samaranayake",
      "userId": "17648743904073737948"
     },
     "user_tz": -480
    },
    "id": "0556db6d",
    "outputId": "c2720c4f-5a7d-4975-9992-42911a3d1c2e"
   },
   "outputs": [],
   "source": [
    "print(\"Count of training images -\", len(train_images))\n",
    "print(\"Count of testing images -\", len(test_images))\n",
    "print(\"Count of training labels -\", len(train_labels))\n",
    "print(\"Count of testing labels -\", len(test_labels))"
   ]
  },
  {
   "cell_type": "code",
   "execution_count": null,
   "id": "200ac974",
   "metadata": {
    "executionInfo": {
     "elapsed": 5127,
     "status": "ok",
     "timestamp": 1667628664864,
     "user": {
      "displayName": "Yasinda Samaranayake",
      "userId": "17648743904073737948"
     },
     "user_tz": -480
    },
    "id": "200ac974"
   },
   "outputs": [],
   "source": [
    "model = Sequential()\n",
    "\n",
    "model.add(Conv2D(32, (3, 3), activation='relu', kernel_initializer='he_uniform', padding='same', input_shape=input_shape))\n",
    "model.add(Conv2D(64, (3, 3),activation='relu', kernel_initializer='he_uniform', padding='same'))\n",
    "model.add(MaxPooling2D(pool_size=(2, 2)))\n",
    "model.add(Dropout(0.50))\n",
    "model.add(Conv2D(64, (3, 3),activation='relu', kernel_initializer='he_uniform', padding='same'))\n",
    "model.add(Dense(128,activation='relu', kernel_initializer='he_uniform'))\n",
    "model.add(MaxPooling2D(pool_size=(2, 2)))\n",
    "model.add(Dropout(0.25))\n",
    "model.add(Flatten())\n",
    "model.add(Dense(128,activation='relu', kernel_initializer='he_uniform'))\n",
    "model.add(Dense(10, activation='softmax'))"
   ]
  },
  {
   "cell_type": "code",
   "execution_count": null,
   "id": "b73abb73",
   "metadata": {
    "colab": {
     "base_uri": "https://localhost:8080/"
    },
    "executionInfo": {
     "elapsed": 13,
     "status": "ok",
     "timestamp": 1667628664866,
     "user": {
      "displayName": "Yasinda Samaranayake",
      "userId": "17648743904073737948"
     },
     "user_tz": -480
    },
    "id": "b73abb73",
    "outputId": "66ab7c00-9528-43f8-d2b9-9a11d9db84d0"
   },
   "outputs": [],
   "source": [
    "model.summary()"
   ]
  },
  {
   "cell_type": "code",
   "execution_count": null,
   "id": "bcc9d02c",
   "metadata": {
    "executionInfo": {
     "elapsed": 5,
     "status": "ok",
     "timestamp": 1667628664866,
     "user": {
      "displayName": "Yasinda Samaranayake",
      "userId": "17648743904073737948"
     },
     "user_tz": -480
    },
    "id": "bcc9d02c"
   },
   "outputs": [],
   "source": [
    "model.compile(loss='categorical_crossentropy',\n",
    "              optimizer='adam',\n",
    "              metrics=['accuracy'])\n",
    "\n",
    "cb = tensorflow.keras.callbacks.EarlyStopping(\n",
    "    monitor='val_accuracy',\n",
    "    min_delta=0,\n",
    "    patience=20,\n",
    "    verbose=0,\n",
    "    mode='auto',\n",
    "    baseline=None,\n",
    "    restore_best_weights=False\n",
    ")"
   ]
  },
  {
   "cell_type": "code",
   "execution_count": null,
   "id": "e056d4c6",
   "metadata": {
    "colab": {
     "base_uri": "https://localhost:8080/"
    },
    "executionInfo": {
     "elapsed": 70916,
     "status": "ok",
     "timestamp": 1667628735778,
     "user": {
      "displayName": "Yasinda Samaranayake",
      "userId": "17648743904073737948"
     },
     "user_tz": -480
    },
    "id": "e056d4c6",
    "outputId": "40b104c5-7813-444f-f04b-e9c04cb51cc7",
    "scrolled": false
   },
   "outputs": [],
   "source": [
    "history = model.fit(train_images, train_labels,\n",
    "                    batch_size=32,\n",
    "                    epochs=50,\n",
    "                    verbose=2,\n",
    "                    validation_data=(test_images, test_labels), callbacks=cb)"
   ]
  },
  {
   "cell_type": "code",
   "execution_count": null,
   "id": "1b881e55",
   "metadata": {
    "colab": {
     "base_uri": "https://localhost:8080/"
    },
    "executionInfo": {
     "elapsed": 860,
     "status": "ok",
     "timestamp": 1667628736636,
     "user": {
      "displayName": "Yasinda Samaranayake",
      "userId": "17648743904073737948"
     },
     "user_tz": -480
    },
    "id": "1b881e55",
    "outputId": "dbee2593-34b7-4da3-be79-4028fafec91a"
   },
   "outputs": [],
   "source": [
    "score = model.evaluate(test_images, test_labels, verbose=0)\n",
    "print('Test loss:', score[0])\n",
    "print('Test accuracy:', score[1])"
   ]
  },
  {
   "cell_type": "code",
   "execution_count": null,
   "id": "3c9637ec",
   "metadata": {
    "colab": {
     "base_uri": "https://localhost:8080/"
    },
    "executionInfo": {
     "elapsed": 1287,
     "status": "ok",
     "timestamp": 1667628737921,
     "user": {
      "displayName": "Yasinda Samaranayake",
      "userId": "17648743904073737948"
     },
     "user_tz": -480
    },
    "id": "3c9637ec",
    "outputId": "0b9a67fe-e391-4e1e-959d-3817bae2c2b0"
   },
   "outputs": [],
   "source": [
    "from sklearn.metrics import confusion_matrix\n",
    "from sklearn.metrics import multilabel_confusion_matrix\n",
    "\n",
    "pred = model.predict(test_images)\n",
    "pred = np.argmax(pred, axis=1)\n",
    "test_labels = np.argmax(test_labels, axis=1)"
   ]
  },
  {
   "cell_type": "code",
   "execution_count": null,
   "id": "6299f750",
   "metadata": {
    "colab": {
     "base_uri": "https://localhost:8080/"
    },
    "executionInfo": {
     "elapsed": 5,
     "status": "ok",
     "timestamp": 1667628737921,
     "user": {
      "displayName": "Yasinda Samaranayake",
      "userId": "17648743904073737948"
     },
     "user_tz": -480
    },
    "id": "6299f750",
    "outputId": "d01c4183-2543-4002-9efa-c07877f78733"
   },
   "outputs": [],
   "source": [
    "print(\"Prediction for first image - \", pred[2])\n",
    "print(\"Actual first image - \", test_labels[2])"
   ]
  },
  {
   "cell_type": "code",
   "execution_count": null,
   "id": "8f505866",
   "metadata": {
    "executionInfo": {
     "elapsed": 2,
     "status": "ok",
     "timestamp": 1667628737921,
     "user": {
      "displayName": "Yasinda Samaranayake",
      "userId": "17648743904073737948"
     },
     "user_tz": -480
    },
    "id": "8f505866"
   },
   "outputs": [],
   "source": [
    "# multilabel_confusion_matrix(test_labels, pred,labels=[0,1,2,3,4,5,6,7,8,9])"
   ]
  },
  {
   "cell_type": "code",
   "execution_count": null,
   "id": "af7e670e",
   "metadata": {
    "colab": {
     "base_uri": "https://localhost:8080/"
    },
    "executionInfo": {
     "elapsed": 3,
     "status": "ok",
     "timestamp": 1667628738893,
     "user": {
      "displayName": "Yasinda Samaranayake",
      "userId": "17648743904073737948"
     },
     "user_tz": -480
    },
    "id": "af7e670e",
    "outputId": "590f3aa9-7481-47ee-b41b-9682cc6e31ef"
   },
   "outputs": [],
   "source": [
    "from sklearn.metrics import classification_report\n",
    "\n",
    "class_names = ['Digit 0','Digit 1','Digit 2','Digit 3','Digit 4','Digit 5','Digit 6','Digit 7','Digit 8','Digit 9']\n",
    "print(classification_report(test_labels,pred, target_names = class_names))"
   ]
  },
  {
   "cell_type": "code",
   "execution_count": null,
   "id": "3fe4f5d2",
   "metadata": {
    "executionInfo": {
     "elapsed": 3,
     "status": "ok",
     "timestamp": 1667628738894,
     "user": {
      "displayName": "Yasinda Samaranayake",
      "userId": "17648743904073737948"
     },
     "user_tz": -480
    },
    "id": "3fe4f5d2"
   },
   "outputs": [],
   "source": []
  }
 ],
 "metadata": {
  "accelerator": "GPU",
  "colab": {
   "collapsed_sections": [],
   "provenance": []
  },
  "kernelspec": {
   "display_name": "Python 3 (ipykernel)",
   "language": "python",
   "name": "python3"
  },
  "language_info": {
   "codemirror_mode": {
    "name": "ipython",
    "version": 3
   },
   "file_extension": ".py",
   "mimetype": "text/x-python",
   "name": "python",
   "nbconvert_exporter": "python",
   "pygments_lexer": "ipython3",
   "version": "3.9.12"
  }
 },
 "nbformat": 4,
 "nbformat_minor": 5
}
